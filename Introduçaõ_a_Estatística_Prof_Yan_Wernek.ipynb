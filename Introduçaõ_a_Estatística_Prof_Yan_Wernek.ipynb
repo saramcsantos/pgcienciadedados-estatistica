{
  "nbformat": 4,
  "nbformat_minor": 0,
  "metadata": {
    "colab": {
      "provenance": [],
      "authorship_tag": "ABX9TyOxSZtMPtrT3PEeHERPG8gj",
      "include_colab_link": true
    },
    "kernelspec": {
      "name": "python3",
      "display_name": "Python 3"
    },
    "language_info": {
      "name": "python"
    }
  },
  "cells": [
    {
      "cell_type": "markdown",
      "metadata": {
        "id": "view-in-github",
        "colab_type": "text"
      },
      "source": [
        "<a href=\"https://colab.research.google.com/github/saramcsantos/pgdatascience/blob/main/Introdu%C3%A7a%C3%B5_a_Estat%C3%ADstica_Prof_Yan_Wernek.ipynb\" target=\"_parent\"><img src=\"https://colab.research.google.com/assets/colab-badge.svg\" alt=\"Open In Colab\"/></a>"
      ]
    },
    {
      "cell_type": "markdown",
      "source": [
        "# Estatística\n",
        "\n",
        "Objetivo é transformar dados em informações e informações em insights. - Carly Fiorina"
      ],
      "metadata": {
        "id": "Lr-426YnNrk-"
      }
    },
    {
      "cell_type": "markdown",
      "source": [
        "## Aplicações da estatística:\n",
        "\n",
        "- Eficácia da Vacina\n",
        "- Previsão das Eleições\n",
        "- Faixa Salarial de um cargo\n",
        "- Inflação (IPCA)\n",
        "- Detecção de Anomalias\n",
        "- Teste de Hipótese\n",
        "- Forecasting (Previsão de Dados)\n",
        "- Metrics Reports"
      ],
      "metadata": {
        "id": "CZXArLFWOc4m"
      }
    },
    {
      "cell_type": "markdown",
      "source": [
        "## Estatística Dedutiva - Descritiva\n",
        "\n",
        "Quando queremos descrever os dados, fazer uma análise exploratória dos dados que temos e entender o que está acontecendo, nós estamos fazendo uma estatística dedutiva."
      ],
      "metadata": {
        "id": "fZ3HA-H_QV76"
      }
    },
    {
      "cell_type": "markdown",
      "source": [
        "## Estatística Indutiva - Inferencial\n",
        "\n",
        "Toda vez que usamos uma parte dos dados para entender fazer uma estimativa do todo, nós estamos fazendo uma estatística inferencial."
      ],
      "metadata": {
        "id": "5vDPEGJKRmxj"
      }
    },
    {
      "cell_type": "markdown",
      "source": [
        "## Métodos estatísticos e suas fases\n",
        "\n",
        "São processos que ajudam a descobrir insights e gerar inteligência em cima dos dados que estão sendo analisados:\n",
        "\n",
        "1º Definir o problema a ser resolvido ou pergunta a ser respondida;\n",
        "\n",
        "2º Planejar o que preciso fazer, quais dados serão necessários, onde os dados serão coletados e que recursos irei precisar;\n",
        "\n",
        "3º Coletar os dados, nessa etapa é importante saber como esses dados estão ou foram coletados, essa informação irá dizer muito sobre o comportamento dos dados;\n",
        "\n",
        "4º Criticar os dados afim de saber se os dados estão refletindo a realidade, e para isso os dados devem ser boa qualidade;\n",
        "\n",
        "5º Apurar os dados é uma revisão do que foi feito, é importante nessa fase se perguntar \"A partir desses dados quais perguntas podem surgir?\";\n",
        "\n",
        "6º Apresentar os dados, nessa fase é importante saber o grau de atualização dos dados para saber qual meio de apresentação será usado, e também saber para qual público os dados serão apresentados, isso irá ajudar a definir a linguagem de apresentação afim de atingir o objetivo com essa apresentação;\n",
        "\n",
        "7º Analisar e interpretar os dados."
      ],
      "metadata": {
        "id": "fIQJgmbnS66-"
      }
    },
    {
      "cell_type": "code",
      "source": [],
      "metadata": {
        "id": "ZP1VJhaWYe95"
      },
      "execution_count": null,
      "outputs": []
    }
  ]
}