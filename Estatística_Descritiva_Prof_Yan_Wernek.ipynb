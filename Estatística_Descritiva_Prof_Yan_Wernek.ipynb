{
  "nbformat": 4,
  "nbformat_minor": 0,
  "metadata": {
    "colab": {
      "provenance": [],
      "authorship_tag": "ABX9TyOh8FXD6cikszH/Mzfl4Y+N"
    },
    "kernelspec": {
      "name": "python3",
      "display_name": "Python 3"
    },
    "language_info": {
      "name": "python"
    }
  },
  "cells": [
    {
      "cell_type": "markdown",
      "source": [
        "# Estatística Descritiva"
      ],
      "metadata": {
        "id": "78AQQTXKRFLp"
      }
    },
    {
      "cell_type": "markdown",
      "source": [
        "## Medidas de tendência central\n",
        "\n",
        "Identifica os diferentes pontos centrais nos dados. As medidas de tendência central mais comuns são: média, mediana e moda. Apesar de trazerem informações distintas sobre os dados, o objetivo dessas medidas é o mesmo: encontrar e entender a centralidade dos dados."
      ],
      "metadata": {
        "id": "JbRoAOlcRNjc"
      }
    },
    {
      "cell_type": "markdown",
      "source": [
        "## Dataset: Preço do BigMac entre 2000 e 2022\n",
        "\n",
        "Usaremos este dataset para explorar as medidas de tendência central."
      ],
      "metadata": {
        "id": "924RYza-R0Pu"
      }
    },
    {
      "cell_type": "code",
      "execution_count": 1,
      "metadata": {
        "id": "bl70d8j0QvZ7"
      },
      "outputs": [],
      "source": [
        "import pandas as pd"
      ]
    },
    {
      "cell_type": "code",
      "source": [
        "df = pd.read_csv('BigmacPrice.csv')"
      ],
      "metadata": {
        "id": "t6YghJWtSSd-"
      },
      "execution_count": 2,
      "outputs": []
    },
    {
      "cell_type": "code",
      "source": [
        "df.head()"
      ],
      "metadata": {
        "colab": {
          "base_uri": "https://localhost:8080/",
          "height": 206
        },
        "id": "rinLL5kDSc1F",
        "outputId": "90ba75ce-09b0-4f4d-db56-bfd7b97f92b2"
      },
      "execution_count": 3,
      "outputs": [
        {
          "output_type": "execute_result",
          "data": {
            "text/plain": [
              "         date currency_code       name  local_price  dollar_ex  dollar_price\n",
              "0  2000-04-01           ARS  Argentina         2.50          1          2.50\n",
              "1  2000-04-01           AUD  Australia         2.59          1          2.59\n",
              "2  2000-04-01           BRL     Brazil         2.95          1          2.95\n",
              "3  2000-04-01           GBP    Britain         1.90          1          1.90\n",
              "4  2000-04-01           CAD     Canada         2.85          1          2.85"
            ],
            "text/html": [
              "\n",
              "  <div id=\"df-3051bb30-b47b-49b3-a5ea-076a787f6c55\" class=\"colab-df-container\">\n",
              "    <div>\n",
              "<style scoped>\n",
              "    .dataframe tbody tr th:only-of-type {\n",
              "        vertical-align: middle;\n",
              "    }\n",
              "\n",
              "    .dataframe tbody tr th {\n",
              "        vertical-align: top;\n",
              "    }\n",
              "\n",
              "    .dataframe thead th {\n",
              "        text-align: right;\n",
              "    }\n",
              "</style>\n",
              "<table border=\"1\" class=\"dataframe\">\n",
              "  <thead>\n",
              "    <tr style=\"text-align: right;\">\n",
              "      <th></th>\n",
              "      <th>date</th>\n",
              "      <th>currency_code</th>\n",
              "      <th>name</th>\n",
              "      <th>local_price</th>\n",
              "      <th>dollar_ex</th>\n",
              "      <th>dollar_price</th>\n",
              "    </tr>\n",
              "  </thead>\n",
              "  <tbody>\n",
              "    <tr>\n",
              "      <th>0</th>\n",
              "      <td>2000-04-01</td>\n",
              "      <td>ARS</td>\n",
              "      <td>Argentina</td>\n",
              "      <td>2.50</td>\n",
              "      <td>1</td>\n",
              "      <td>2.50</td>\n",
              "    </tr>\n",
              "    <tr>\n",
              "      <th>1</th>\n",
              "      <td>2000-04-01</td>\n",
              "      <td>AUD</td>\n",
              "      <td>Australia</td>\n",
              "      <td>2.59</td>\n",
              "      <td>1</td>\n",
              "      <td>2.59</td>\n",
              "    </tr>\n",
              "    <tr>\n",
              "      <th>2</th>\n",
              "      <td>2000-04-01</td>\n",
              "      <td>BRL</td>\n",
              "      <td>Brazil</td>\n",
              "      <td>2.95</td>\n",
              "      <td>1</td>\n",
              "      <td>2.95</td>\n",
              "    </tr>\n",
              "    <tr>\n",
              "      <th>3</th>\n",
              "      <td>2000-04-01</td>\n",
              "      <td>GBP</td>\n",
              "      <td>Britain</td>\n",
              "      <td>1.90</td>\n",
              "      <td>1</td>\n",
              "      <td>1.90</td>\n",
              "    </tr>\n",
              "    <tr>\n",
              "      <th>4</th>\n",
              "      <td>2000-04-01</td>\n",
              "      <td>CAD</td>\n",
              "      <td>Canada</td>\n",
              "      <td>2.85</td>\n",
              "      <td>1</td>\n",
              "      <td>2.85</td>\n",
              "    </tr>\n",
              "  </tbody>\n",
              "</table>\n",
              "</div>\n",
              "    <div class=\"colab-df-buttons\">\n",
              "\n",
              "  <div class=\"colab-df-container\">\n",
              "    <button class=\"colab-df-convert\" onclick=\"convertToInteractive('df-3051bb30-b47b-49b3-a5ea-076a787f6c55')\"\n",
              "            title=\"Convert this dataframe to an interactive table.\"\n",
              "            style=\"display:none;\">\n",
              "\n",
              "  <svg xmlns=\"http://www.w3.org/2000/svg\" height=\"24px\" viewBox=\"0 -960 960 960\">\n",
              "    <path d=\"M120-120v-720h720v720H120Zm60-500h600v-160H180v160Zm220 220h160v-160H400v160Zm0 220h160v-160H400v160ZM180-400h160v-160H180v160Zm440 0h160v-160H620v160ZM180-180h160v-160H180v160Zm440 0h160v-160H620v160Z\"/>\n",
              "  </svg>\n",
              "    </button>\n",
              "\n",
              "  <style>\n",
              "    .colab-df-container {\n",
              "      display:flex;\n",
              "      gap: 12px;\n",
              "    }\n",
              "\n",
              "    .colab-df-convert {\n",
              "      background-color: #E8F0FE;\n",
              "      border: none;\n",
              "      border-radius: 50%;\n",
              "      cursor: pointer;\n",
              "      display: none;\n",
              "      fill: #1967D2;\n",
              "      height: 32px;\n",
              "      padding: 0 0 0 0;\n",
              "      width: 32px;\n",
              "    }\n",
              "\n",
              "    .colab-df-convert:hover {\n",
              "      background-color: #E2EBFA;\n",
              "      box-shadow: 0px 1px 2px rgba(60, 64, 67, 0.3), 0px 1px 3px 1px rgba(60, 64, 67, 0.15);\n",
              "      fill: #174EA6;\n",
              "    }\n",
              "\n",
              "    .colab-df-buttons div {\n",
              "      margin-bottom: 4px;\n",
              "    }\n",
              "\n",
              "    [theme=dark] .colab-df-convert {\n",
              "      background-color: #3B4455;\n",
              "      fill: #D2E3FC;\n",
              "    }\n",
              "\n",
              "    [theme=dark] .colab-df-convert:hover {\n",
              "      background-color: #434B5C;\n",
              "      box-shadow: 0px 1px 3px 1px rgba(0, 0, 0, 0.15);\n",
              "      filter: drop-shadow(0px 1px 2px rgba(0, 0, 0, 0.3));\n",
              "      fill: #FFFFFF;\n",
              "    }\n",
              "  </style>\n",
              "\n",
              "    <script>\n",
              "      const buttonEl =\n",
              "        document.querySelector('#df-3051bb30-b47b-49b3-a5ea-076a787f6c55 button.colab-df-convert');\n",
              "      buttonEl.style.display =\n",
              "        google.colab.kernel.accessAllowed ? 'block' : 'none';\n",
              "\n",
              "      async function convertToInteractive(key) {\n",
              "        const element = document.querySelector('#df-3051bb30-b47b-49b3-a5ea-076a787f6c55');\n",
              "        const dataTable =\n",
              "          await google.colab.kernel.invokeFunction('convertToInteractive',\n",
              "                                                    [key], {});\n",
              "        if (!dataTable) return;\n",
              "\n",
              "        const docLinkHtml = 'Like what you see? Visit the ' +\n",
              "          '<a target=\"_blank\" href=https://colab.research.google.com/notebooks/data_table.ipynb>data table notebook</a>'\n",
              "          + ' to learn more about interactive tables.';\n",
              "        element.innerHTML = '';\n",
              "        dataTable['output_type'] = 'display_data';\n",
              "        await google.colab.output.renderOutput(dataTable, element);\n",
              "        const docLink = document.createElement('div');\n",
              "        docLink.innerHTML = docLinkHtml;\n",
              "        element.appendChild(docLink);\n",
              "      }\n",
              "    </script>\n",
              "  </div>\n",
              "\n",
              "\n",
              "<div id=\"df-9d52584b-8b16-4080-857a-d334c6050396\">\n",
              "  <button class=\"colab-df-quickchart\" onclick=\"quickchart('df-9d52584b-8b16-4080-857a-d334c6050396')\"\n",
              "            title=\"Suggest charts\"\n",
              "            style=\"display:none;\">\n",
              "\n",
              "<svg xmlns=\"http://www.w3.org/2000/svg\" height=\"24px\"viewBox=\"0 0 24 24\"\n",
              "     width=\"24px\">\n",
              "    <g>\n",
              "        <path d=\"M19 3H5c-1.1 0-2 .9-2 2v14c0 1.1.9 2 2 2h14c1.1 0 2-.9 2-2V5c0-1.1-.9-2-2-2zM9 17H7v-7h2v7zm4 0h-2V7h2v10zm4 0h-2v-4h2v4z\"/>\n",
              "    </g>\n",
              "</svg>\n",
              "  </button>\n",
              "\n",
              "<style>\n",
              "  .colab-df-quickchart {\n",
              "      --bg-color: #E8F0FE;\n",
              "      --fill-color: #1967D2;\n",
              "      --hover-bg-color: #E2EBFA;\n",
              "      --hover-fill-color: #174EA6;\n",
              "      --disabled-fill-color: #AAA;\n",
              "      --disabled-bg-color: #DDD;\n",
              "  }\n",
              "\n",
              "  [theme=dark] .colab-df-quickchart {\n",
              "      --bg-color: #3B4455;\n",
              "      --fill-color: #D2E3FC;\n",
              "      --hover-bg-color: #434B5C;\n",
              "      --hover-fill-color: #FFFFFF;\n",
              "      --disabled-bg-color: #3B4455;\n",
              "      --disabled-fill-color: #666;\n",
              "  }\n",
              "\n",
              "  .colab-df-quickchart {\n",
              "    background-color: var(--bg-color);\n",
              "    border: none;\n",
              "    border-radius: 50%;\n",
              "    cursor: pointer;\n",
              "    display: none;\n",
              "    fill: var(--fill-color);\n",
              "    height: 32px;\n",
              "    padding: 0;\n",
              "    width: 32px;\n",
              "  }\n",
              "\n",
              "  .colab-df-quickchart:hover {\n",
              "    background-color: var(--hover-bg-color);\n",
              "    box-shadow: 0 1px 2px rgba(60, 64, 67, 0.3), 0 1px 3px 1px rgba(60, 64, 67, 0.15);\n",
              "    fill: var(--button-hover-fill-color);\n",
              "  }\n",
              "\n",
              "  .colab-df-quickchart-complete:disabled,\n",
              "  .colab-df-quickchart-complete:disabled:hover {\n",
              "    background-color: var(--disabled-bg-color);\n",
              "    fill: var(--disabled-fill-color);\n",
              "    box-shadow: none;\n",
              "  }\n",
              "\n",
              "  .colab-df-spinner {\n",
              "    border: 2px solid var(--fill-color);\n",
              "    border-color: transparent;\n",
              "    border-bottom-color: var(--fill-color);\n",
              "    animation:\n",
              "      spin 1s steps(1) infinite;\n",
              "  }\n",
              "\n",
              "  @keyframes spin {\n",
              "    0% {\n",
              "      border-color: transparent;\n",
              "      border-bottom-color: var(--fill-color);\n",
              "      border-left-color: var(--fill-color);\n",
              "    }\n",
              "    20% {\n",
              "      border-color: transparent;\n",
              "      border-left-color: var(--fill-color);\n",
              "      border-top-color: var(--fill-color);\n",
              "    }\n",
              "    30% {\n",
              "      border-color: transparent;\n",
              "      border-left-color: var(--fill-color);\n",
              "      border-top-color: var(--fill-color);\n",
              "      border-right-color: var(--fill-color);\n",
              "    }\n",
              "    40% {\n",
              "      border-color: transparent;\n",
              "      border-right-color: var(--fill-color);\n",
              "      border-top-color: var(--fill-color);\n",
              "    }\n",
              "    60% {\n",
              "      border-color: transparent;\n",
              "      border-right-color: var(--fill-color);\n",
              "    }\n",
              "    80% {\n",
              "      border-color: transparent;\n",
              "      border-right-color: var(--fill-color);\n",
              "      border-bottom-color: var(--fill-color);\n",
              "    }\n",
              "    90% {\n",
              "      border-color: transparent;\n",
              "      border-bottom-color: var(--fill-color);\n",
              "    }\n",
              "  }\n",
              "</style>\n",
              "\n",
              "  <script>\n",
              "    async function quickchart(key) {\n",
              "      const quickchartButtonEl =\n",
              "        document.querySelector('#' + key + ' button');\n",
              "      quickchartButtonEl.disabled = true;  // To prevent multiple clicks.\n",
              "      quickchartButtonEl.classList.add('colab-df-spinner');\n",
              "      try {\n",
              "        const charts = await google.colab.kernel.invokeFunction(\n",
              "            'suggestCharts', [key], {});\n",
              "      } catch (error) {\n",
              "        console.error('Error during call to suggestCharts:', error);\n",
              "      }\n",
              "      quickchartButtonEl.classList.remove('colab-df-spinner');\n",
              "      quickchartButtonEl.classList.add('colab-df-quickchart-complete');\n",
              "    }\n",
              "    (() => {\n",
              "      let quickchartButtonEl =\n",
              "        document.querySelector('#df-9d52584b-8b16-4080-857a-d334c6050396 button');\n",
              "      quickchartButtonEl.style.display =\n",
              "        google.colab.kernel.accessAllowed ? 'block' : 'none';\n",
              "    })();\n",
              "  </script>\n",
              "</div>\n",
              "\n",
              "    </div>\n",
              "  </div>\n"
            ],
            "application/vnd.google.colaboratory.intrinsic+json": {
              "type": "dataframe",
              "variable_name": "df",
              "summary": "{\n  \"name\": \"df\",\n  \"rows\": 1946,\n  \"fields\": [\n    {\n      \"column\": \"date\",\n      \"properties\": {\n        \"dtype\": \"object\",\n        \"num_unique_values\": 37,\n        \"samples\": [\n          \"2013-01-01\",\n          \"2010-07-01\",\n          \"2004-05-01\"\n        ],\n        \"semantic_type\": \"\",\n        \"description\": \"\"\n      }\n    },\n    {\n      \"column\": \"currency_code\",\n      \"properties\": {\n        \"dtype\": \"category\",\n        \"num_unique_values\": 58,\n        \"samples\": [\n          \"ARS\",\n          \"CLP\",\n          \"COP\"\n        ],\n        \"semantic_type\": \"\",\n        \"description\": \"\"\n      }\n    },\n    {\n      \"column\": \"name\",\n      \"properties\": {\n        \"dtype\": \"category\",\n        \"num_unique_values\": 74,\n        \"samples\": [\n          \"Canada\",\n          \"Kuwait\",\n          \"Poland\"\n        ],\n        \"semantic_type\": \"\",\n        \"description\": \"\"\n      }\n    },\n    {\n      \"column\": \"local_price\",\n      \"properties\": {\n        \"dtype\": \"number\",\n        \"std\": 394005.0133344877,\n        \"min\": 0.0,\n        \"max\": 16020000.0,\n        \"num_unique_values\": 669,\n        \"samples\": [\n          70.45,\n          6900.0,\n          125.0\n        ],\n        \"semantic_type\": \"\",\n        \"description\": \"\"\n      }\n    },\n    {\n      \"column\": \"dollar_ex\",\n      \"properties\": {\n        \"dtype\": \"number\",\n        \"std\": 100623,\n        \"min\": 1,\n        \"max\": 3613989,\n        \"num_unique_values\": 376,\n        \"samples\": [\n          3191,\n          14382,\n          663\n        ],\n        \"semantic_type\": \"\",\n        \"description\": \"\"\n      }\n    },\n    {\n      \"column\": \"dollar_price\",\n      \"properties\": {\n        \"dtype\": \"number\",\n        \"std\": 1.4170542245978206,\n        \"min\": 0.0,\n        \"max\": 11.25,\n        \"num_unique_values\": 454,\n        \"samples\": [\n          5.53,\n          1.18,\n          5.75\n        ],\n        \"semantic_type\": \"\",\n        \"description\": \"\"\n      }\n    }\n  ]\n}"
            }
          },
          "metadata": {},
          "execution_count": 3
        }
      ]
    },
    {
      "cell_type": "markdown",
      "source": [
        "Descrevendo os nomes das colunas:\n",
        "\n",
        "\n",
        "\n",
        "*   date: data da compra\n",
        "*   currency_code: código da moeda local\n",
        "*   name: o país a qual pertence a moeda\n",
        "*   local_price: o preço do bigmac naquele país\n",
        "*   dollar_ex: taxa de conversão do dólar para a moeda local\n",
        "*   dollar_price: preço em dóllar do bigmac naquele país\n",
        "\n",
        "\n",
        "\n",
        "\n",
        "\n"
      ],
      "metadata": {
        "id": "5BVSx5ZBTwiN"
      }
    },
    {
      "cell_type": "code",
      "source": [
        "# descrevendo os tipos de dados existentes no dataset\n",
        "\n",
        "df.dtypes"
      ],
      "metadata": {
        "colab": {
          "base_uri": "https://localhost:8080/",
          "height": 272
        },
        "id": "xEpzujLZSduU",
        "outputId": "0e92fe12-eb7f-4e82-b599-59671ef7cc77"
      },
      "execution_count": 4,
      "outputs": [
        {
          "output_type": "execute_result",
          "data": {
            "text/plain": [
              "date              object\n",
              "currency_code     object\n",
              "name              object\n",
              "local_price      float64\n",
              "dollar_ex          int64\n",
              "dollar_price     float64\n",
              "dtype: object"
            ],
            "text/html": [
              "<div>\n",
              "<style scoped>\n",
              "    .dataframe tbody tr th:only-of-type {\n",
              "        vertical-align: middle;\n",
              "    }\n",
              "\n",
              "    .dataframe tbody tr th {\n",
              "        vertical-align: top;\n",
              "    }\n",
              "\n",
              "    .dataframe thead th {\n",
              "        text-align: right;\n",
              "    }\n",
              "</style>\n",
              "<table border=\"1\" class=\"dataframe\">\n",
              "  <thead>\n",
              "    <tr style=\"text-align: right;\">\n",
              "      <th></th>\n",
              "      <th>0</th>\n",
              "    </tr>\n",
              "  </thead>\n",
              "  <tbody>\n",
              "    <tr>\n",
              "      <th>date</th>\n",
              "      <td>object</td>\n",
              "    </tr>\n",
              "    <tr>\n",
              "      <th>currency_code</th>\n",
              "      <td>object</td>\n",
              "    </tr>\n",
              "    <tr>\n",
              "      <th>name</th>\n",
              "      <td>object</td>\n",
              "    </tr>\n",
              "    <tr>\n",
              "      <th>local_price</th>\n",
              "      <td>float64</td>\n",
              "    </tr>\n",
              "    <tr>\n",
              "      <th>dollar_ex</th>\n",
              "      <td>int64</td>\n",
              "    </tr>\n",
              "    <tr>\n",
              "      <th>dollar_price</th>\n",
              "      <td>float64</td>\n",
              "    </tr>\n",
              "  </tbody>\n",
              "</table>\n",
              "</div><br><label><b>dtype:</b> object</label>"
            ]
          },
          "metadata": {},
          "execution_count": 4
        }
      ]
    },
    {
      "cell_type": "markdown",
      "source": [
        "Para essa atividade iremos usar os dados pertencentes ao mês de julho do ano de 2022, para isso iremos filtrar esses dados pela coluna 'date'."
      ],
      "metadata": {
        "id": "ACDtn98QU6pQ"
      }
    },
    {
      "cell_type": "code",
      "source": [
        "df_filtered = df[df['date']== '2022-07-01']"
      ],
      "metadata": {
        "id": "zZ-72rZ9UzXi"
      },
      "execution_count": 5,
      "outputs": []
    },
    {
      "cell_type": "code",
      "source": [
        "df_filtered.head()"
      ],
      "metadata": {
        "colab": {
          "base_uri": "https://localhost:8080/",
          "height": 206
        },
        "id": "EYAhQeENVfl8",
        "outputId": "2338a97a-48e8-4b74-b727-f675e795bbad"
      },
      "execution_count": 6,
      "outputs": [
        {
          "output_type": "execute_result",
          "data": {
            "text/plain": [
              "            date currency_code        name  local_price  dollar_ex  \\\n",
              "1876  2022-07-01           ARS   Argentina       590.00        129   \n",
              "1877  2022-07-01           AUD   Australia         6.70          1   \n",
              "1878  2022-07-01           EUR     Austria         4.35          1   \n",
              "1879  2022-07-01           AZN  Azerbaijan         4.70          1   \n",
              "1880  2022-07-01           BHD     Bahrain         1.60          1   \n",
              "\n",
              "      dollar_price  \n",
              "1876          4.57  \n",
              "1877          6.70  \n",
              "1878          4.35  \n",
              "1879          4.70  \n",
              "1880          1.60  "
            ],
            "text/html": [
              "\n",
              "  <div id=\"df-c386d65b-7713-496d-a392-c6939f01a0d3\" class=\"colab-df-container\">\n",
              "    <div>\n",
              "<style scoped>\n",
              "    .dataframe tbody tr th:only-of-type {\n",
              "        vertical-align: middle;\n",
              "    }\n",
              "\n",
              "    .dataframe tbody tr th {\n",
              "        vertical-align: top;\n",
              "    }\n",
              "\n",
              "    .dataframe thead th {\n",
              "        text-align: right;\n",
              "    }\n",
              "</style>\n",
              "<table border=\"1\" class=\"dataframe\">\n",
              "  <thead>\n",
              "    <tr style=\"text-align: right;\">\n",
              "      <th></th>\n",
              "      <th>date</th>\n",
              "      <th>currency_code</th>\n",
              "      <th>name</th>\n",
              "      <th>local_price</th>\n",
              "      <th>dollar_ex</th>\n",
              "      <th>dollar_price</th>\n",
              "    </tr>\n",
              "  </thead>\n",
              "  <tbody>\n",
              "    <tr>\n",
              "      <th>1876</th>\n",
              "      <td>2022-07-01</td>\n",
              "      <td>ARS</td>\n",
              "      <td>Argentina</td>\n",
              "      <td>590.00</td>\n",
              "      <td>129</td>\n",
              "      <td>4.57</td>\n",
              "    </tr>\n",
              "    <tr>\n",
              "      <th>1877</th>\n",
              "      <td>2022-07-01</td>\n",
              "      <td>AUD</td>\n",
              "      <td>Australia</td>\n",
              "      <td>6.70</td>\n",
              "      <td>1</td>\n",
              "      <td>6.70</td>\n",
              "    </tr>\n",
              "    <tr>\n",
              "      <th>1878</th>\n",
              "      <td>2022-07-01</td>\n",
              "      <td>EUR</td>\n",
              "      <td>Austria</td>\n",
              "      <td>4.35</td>\n",
              "      <td>1</td>\n",
              "      <td>4.35</td>\n",
              "    </tr>\n",
              "    <tr>\n",
              "      <th>1879</th>\n",
              "      <td>2022-07-01</td>\n",
              "      <td>AZN</td>\n",
              "      <td>Azerbaijan</td>\n",
              "      <td>4.70</td>\n",
              "      <td>1</td>\n",
              "      <td>4.70</td>\n",
              "    </tr>\n",
              "    <tr>\n",
              "      <th>1880</th>\n",
              "      <td>2022-07-01</td>\n",
              "      <td>BHD</td>\n",
              "      <td>Bahrain</td>\n",
              "      <td>1.60</td>\n",
              "      <td>1</td>\n",
              "      <td>1.60</td>\n",
              "    </tr>\n",
              "  </tbody>\n",
              "</table>\n",
              "</div>\n",
              "    <div class=\"colab-df-buttons\">\n",
              "\n",
              "  <div class=\"colab-df-container\">\n",
              "    <button class=\"colab-df-convert\" onclick=\"convertToInteractive('df-c386d65b-7713-496d-a392-c6939f01a0d3')\"\n",
              "            title=\"Convert this dataframe to an interactive table.\"\n",
              "            style=\"display:none;\">\n",
              "\n",
              "  <svg xmlns=\"http://www.w3.org/2000/svg\" height=\"24px\" viewBox=\"0 -960 960 960\">\n",
              "    <path d=\"M120-120v-720h720v720H120Zm60-500h600v-160H180v160Zm220 220h160v-160H400v160Zm0 220h160v-160H400v160ZM180-400h160v-160H180v160Zm440 0h160v-160H620v160ZM180-180h160v-160H180v160Zm440 0h160v-160H620v160Z\"/>\n",
              "  </svg>\n",
              "    </button>\n",
              "\n",
              "  <style>\n",
              "    .colab-df-container {\n",
              "      display:flex;\n",
              "      gap: 12px;\n",
              "    }\n",
              "\n",
              "    .colab-df-convert {\n",
              "      background-color: #E8F0FE;\n",
              "      border: none;\n",
              "      border-radius: 50%;\n",
              "      cursor: pointer;\n",
              "      display: none;\n",
              "      fill: #1967D2;\n",
              "      height: 32px;\n",
              "      padding: 0 0 0 0;\n",
              "      width: 32px;\n",
              "    }\n",
              "\n",
              "    .colab-df-convert:hover {\n",
              "      background-color: #E2EBFA;\n",
              "      box-shadow: 0px 1px 2px rgba(60, 64, 67, 0.3), 0px 1px 3px 1px rgba(60, 64, 67, 0.15);\n",
              "      fill: #174EA6;\n",
              "    }\n",
              "\n",
              "    .colab-df-buttons div {\n",
              "      margin-bottom: 4px;\n",
              "    }\n",
              "\n",
              "    [theme=dark] .colab-df-convert {\n",
              "      background-color: #3B4455;\n",
              "      fill: #D2E3FC;\n",
              "    }\n",
              "\n",
              "    [theme=dark] .colab-df-convert:hover {\n",
              "      background-color: #434B5C;\n",
              "      box-shadow: 0px 1px 3px 1px rgba(0, 0, 0, 0.15);\n",
              "      filter: drop-shadow(0px 1px 2px rgba(0, 0, 0, 0.3));\n",
              "      fill: #FFFFFF;\n",
              "    }\n",
              "  </style>\n",
              "\n",
              "    <script>\n",
              "      const buttonEl =\n",
              "        document.querySelector('#df-c386d65b-7713-496d-a392-c6939f01a0d3 button.colab-df-convert');\n",
              "      buttonEl.style.display =\n",
              "        google.colab.kernel.accessAllowed ? 'block' : 'none';\n",
              "\n",
              "      async function convertToInteractive(key) {\n",
              "        const element = document.querySelector('#df-c386d65b-7713-496d-a392-c6939f01a0d3');\n",
              "        const dataTable =\n",
              "          await google.colab.kernel.invokeFunction('convertToInteractive',\n",
              "                                                    [key], {});\n",
              "        if (!dataTable) return;\n",
              "\n",
              "        const docLinkHtml = 'Like what you see? Visit the ' +\n",
              "          '<a target=\"_blank\" href=https://colab.research.google.com/notebooks/data_table.ipynb>data table notebook</a>'\n",
              "          + ' to learn more about interactive tables.';\n",
              "        element.innerHTML = '';\n",
              "        dataTable['output_type'] = 'display_data';\n",
              "        await google.colab.output.renderOutput(dataTable, element);\n",
              "        const docLink = document.createElement('div');\n",
              "        docLink.innerHTML = docLinkHtml;\n",
              "        element.appendChild(docLink);\n",
              "      }\n",
              "    </script>\n",
              "  </div>\n",
              "\n",
              "\n",
              "<div id=\"df-482bfc15-1439-4846-9565-24dcbbf131b7\">\n",
              "  <button class=\"colab-df-quickchart\" onclick=\"quickchart('df-482bfc15-1439-4846-9565-24dcbbf131b7')\"\n",
              "            title=\"Suggest charts\"\n",
              "            style=\"display:none;\">\n",
              "\n",
              "<svg xmlns=\"http://www.w3.org/2000/svg\" height=\"24px\"viewBox=\"0 0 24 24\"\n",
              "     width=\"24px\">\n",
              "    <g>\n",
              "        <path d=\"M19 3H5c-1.1 0-2 .9-2 2v14c0 1.1.9 2 2 2h14c1.1 0 2-.9 2-2V5c0-1.1-.9-2-2-2zM9 17H7v-7h2v7zm4 0h-2V7h2v10zm4 0h-2v-4h2v4z\"/>\n",
              "    </g>\n",
              "</svg>\n",
              "  </button>\n",
              "\n",
              "<style>\n",
              "  .colab-df-quickchart {\n",
              "      --bg-color: #E8F0FE;\n",
              "      --fill-color: #1967D2;\n",
              "      --hover-bg-color: #E2EBFA;\n",
              "      --hover-fill-color: #174EA6;\n",
              "      --disabled-fill-color: #AAA;\n",
              "      --disabled-bg-color: #DDD;\n",
              "  }\n",
              "\n",
              "  [theme=dark] .colab-df-quickchart {\n",
              "      --bg-color: #3B4455;\n",
              "      --fill-color: #D2E3FC;\n",
              "      --hover-bg-color: #434B5C;\n",
              "      --hover-fill-color: #FFFFFF;\n",
              "      --disabled-bg-color: #3B4455;\n",
              "      --disabled-fill-color: #666;\n",
              "  }\n",
              "\n",
              "  .colab-df-quickchart {\n",
              "    background-color: var(--bg-color);\n",
              "    border: none;\n",
              "    border-radius: 50%;\n",
              "    cursor: pointer;\n",
              "    display: none;\n",
              "    fill: var(--fill-color);\n",
              "    height: 32px;\n",
              "    padding: 0;\n",
              "    width: 32px;\n",
              "  }\n",
              "\n",
              "  .colab-df-quickchart:hover {\n",
              "    background-color: var(--hover-bg-color);\n",
              "    box-shadow: 0 1px 2px rgba(60, 64, 67, 0.3), 0 1px 3px 1px rgba(60, 64, 67, 0.15);\n",
              "    fill: var(--button-hover-fill-color);\n",
              "  }\n",
              "\n",
              "  .colab-df-quickchart-complete:disabled,\n",
              "  .colab-df-quickchart-complete:disabled:hover {\n",
              "    background-color: var(--disabled-bg-color);\n",
              "    fill: var(--disabled-fill-color);\n",
              "    box-shadow: none;\n",
              "  }\n",
              "\n",
              "  .colab-df-spinner {\n",
              "    border: 2px solid var(--fill-color);\n",
              "    border-color: transparent;\n",
              "    border-bottom-color: var(--fill-color);\n",
              "    animation:\n",
              "      spin 1s steps(1) infinite;\n",
              "  }\n",
              "\n",
              "  @keyframes spin {\n",
              "    0% {\n",
              "      border-color: transparent;\n",
              "      border-bottom-color: var(--fill-color);\n",
              "      border-left-color: var(--fill-color);\n",
              "    }\n",
              "    20% {\n",
              "      border-color: transparent;\n",
              "      border-left-color: var(--fill-color);\n",
              "      border-top-color: var(--fill-color);\n",
              "    }\n",
              "    30% {\n",
              "      border-color: transparent;\n",
              "      border-left-color: var(--fill-color);\n",
              "      border-top-color: var(--fill-color);\n",
              "      border-right-color: var(--fill-color);\n",
              "    }\n",
              "    40% {\n",
              "      border-color: transparent;\n",
              "      border-right-color: var(--fill-color);\n",
              "      border-top-color: var(--fill-color);\n",
              "    }\n",
              "    60% {\n",
              "      border-color: transparent;\n",
              "      border-right-color: var(--fill-color);\n",
              "    }\n",
              "    80% {\n",
              "      border-color: transparent;\n",
              "      border-right-color: var(--fill-color);\n",
              "      border-bottom-color: var(--fill-color);\n",
              "    }\n",
              "    90% {\n",
              "      border-color: transparent;\n",
              "      border-bottom-color: var(--fill-color);\n",
              "    }\n",
              "  }\n",
              "</style>\n",
              "\n",
              "  <script>\n",
              "    async function quickchart(key) {\n",
              "      const quickchartButtonEl =\n",
              "        document.querySelector('#' + key + ' button');\n",
              "      quickchartButtonEl.disabled = true;  // To prevent multiple clicks.\n",
              "      quickchartButtonEl.classList.add('colab-df-spinner');\n",
              "      try {\n",
              "        const charts = await google.colab.kernel.invokeFunction(\n",
              "            'suggestCharts', [key], {});\n",
              "      } catch (error) {\n",
              "        console.error('Error during call to suggestCharts:', error);\n",
              "      }\n",
              "      quickchartButtonEl.classList.remove('colab-df-spinner');\n",
              "      quickchartButtonEl.classList.add('colab-df-quickchart-complete');\n",
              "    }\n",
              "    (() => {\n",
              "      let quickchartButtonEl =\n",
              "        document.querySelector('#df-482bfc15-1439-4846-9565-24dcbbf131b7 button');\n",
              "      quickchartButtonEl.style.display =\n",
              "        google.colab.kernel.accessAllowed ? 'block' : 'none';\n",
              "    })();\n",
              "  </script>\n",
              "</div>\n",
              "\n",
              "    </div>\n",
              "  </div>\n"
            ],
            "application/vnd.google.colaboratory.intrinsic+json": {
              "type": "dataframe",
              "variable_name": "df_filtered",
              "repr_error": "0"
            }
          },
          "metadata": {},
          "execution_count": 6
        }
      ]
    },
    {
      "cell_type": "markdown",
      "source": [
        "Verificando quantas observações nós temos agora que filtramos pelo mês de julho de 2022."
      ],
      "metadata": {
        "id": "AvfW1SrKWLv2"
      }
    },
    {
      "cell_type": "code",
      "source": [
        "df_filtered.count()"
      ],
      "metadata": {
        "colab": {
          "base_uri": "https://localhost:8080/",
          "height": 272
        },
        "id": "cJsJFKQAVqYX",
        "outputId": "e57d0deb-41f6-4048-b0a5-111c406d5cd1"
      },
      "execution_count": 7,
      "outputs": [
        {
          "output_type": "execute_result",
          "data": {
            "text/plain": [
              "date             70\n",
              "currency_code    70\n",
              "name             70\n",
              "local_price      70\n",
              "dollar_ex        70\n",
              "dollar_price     70\n",
              "dtype: int64"
            ],
            "text/html": [
              "<div>\n",
              "<style scoped>\n",
              "    .dataframe tbody tr th:only-of-type {\n",
              "        vertical-align: middle;\n",
              "    }\n",
              "\n",
              "    .dataframe tbody tr th {\n",
              "        vertical-align: top;\n",
              "    }\n",
              "\n",
              "    .dataframe thead th {\n",
              "        text-align: right;\n",
              "    }\n",
              "</style>\n",
              "<table border=\"1\" class=\"dataframe\">\n",
              "  <thead>\n",
              "    <tr style=\"text-align: right;\">\n",
              "      <th></th>\n",
              "      <th>0</th>\n",
              "    </tr>\n",
              "  </thead>\n",
              "  <tbody>\n",
              "    <tr>\n",
              "      <th>date</th>\n",
              "      <td>70</td>\n",
              "    </tr>\n",
              "    <tr>\n",
              "      <th>currency_code</th>\n",
              "      <td>70</td>\n",
              "    </tr>\n",
              "    <tr>\n",
              "      <th>name</th>\n",
              "      <td>70</td>\n",
              "    </tr>\n",
              "    <tr>\n",
              "      <th>local_price</th>\n",
              "      <td>70</td>\n",
              "    </tr>\n",
              "    <tr>\n",
              "      <th>dollar_ex</th>\n",
              "      <td>70</td>\n",
              "    </tr>\n",
              "    <tr>\n",
              "      <th>dollar_price</th>\n",
              "      <td>70</td>\n",
              "    </tr>\n",
              "  </tbody>\n",
              "</table>\n",
              "</div><br><label><b>dtype:</b> int64</label>"
            ]
          },
          "metadata": {},
          "execution_count": 7
        }
      ]
    },
    {
      "cell_type": "markdown",
      "source": [
        "O resultado indica que temos 70 observações por coluna, ou seja, temos ao todo 70 linhas. Abaixo verificamos se há a existência de um preço a mais em algum dos países do dataset no dia 01 de julho de 2022:"
      ],
      "metadata": {
        "id": "wsrlPbBfWVt6"
      }
    },
    {
      "cell_type": "code",
      "source": [
        "df_filtered.groupby('name').count()['date']"
      ],
      "metadata": {
        "colab": {
          "base_uri": "https://localhost:8080/",
          "height": 489
        },
        "id": "k7EbkOFRVwNe",
        "outputId": "9a619dd5-4fdb-410e-999c-03842570312a"
      },
      "execution_count": 8,
      "outputs": [
        {
          "output_type": "execute_result",
          "data": {
            "text/plain": [
              "name\n",
              "Argentina               1\n",
              "Australia               1\n",
              "Austria                 1\n",
              "Azerbaijan              1\n",
              "Bahrain                 1\n",
              "                       ..\n",
              "United Arab Emirates    1\n",
              "United States           1\n",
              "Uruguay                 1\n",
              "Venezuela               1\n",
              "Vietnam                 1\n",
              "Name: date, Length: 70, dtype: int64"
            ],
            "text/html": [
              "<div>\n",
              "<style scoped>\n",
              "    .dataframe tbody tr th:only-of-type {\n",
              "        vertical-align: middle;\n",
              "    }\n",
              "\n",
              "    .dataframe tbody tr th {\n",
              "        vertical-align: top;\n",
              "    }\n",
              "\n",
              "    .dataframe thead th {\n",
              "        text-align: right;\n",
              "    }\n",
              "</style>\n",
              "<table border=\"1\" class=\"dataframe\">\n",
              "  <thead>\n",
              "    <tr style=\"text-align: right;\">\n",
              "      <th></th>\n",
              "      <th>date</th>\n",
              "    </tr>\n",
              "    <tr>\n",
              "      <th>name</th>\n",
              "      <th></th>\n",
              "    </tr>\n",
              "  </thead>\n",
              "  <tbody>\n",
              "    <tr>\n",
              "      <th>Argentina</th>\n",
              "      <td>1</td>\n",
              "    </tr>\n",
              "    <tr>\n",
              "      <th>Australia</th>\n",
              "      <td>1</td>\n",
              "    </tr>\n",
              "    <tr>\n",
              "      <th>Austria</th>\n",
              "      <td>1</td>\n",
              "    </tr>\n",
              "    <tr>\n",
              "      <th>Azerbaijan</th>\n",
              "      <td>1</td>\n",
              "    </tr>\n",
              "    <tr>\n",
              "      <th>Bahrain</th>\n",
              "      <td>1</td>\n",
              "    </tr>\n",
              "    <tr>\n",
              "      <th>...</th>\n",
              "      <td>...</td>\n",
              "    </tr>\n",
              "    <tr>\n",
              "      <th>United Arab Emirates</th>\n",
              "      <td>1</td>\n",
              "    </tr>\n",
              "    <tr>\n",
              "      <th>United States</th>\n",
              "      <td>1</td>\n",
              "    </tr>\n",
              "    <tr>\n",
              "      <th>Uruguay</th>\n",
              "      <td>1</td>\n",
              "    </tr>\n",
              "    <tr>\n",
              "      <th>Venezuela</th>\n",
              "      <td>1</td>\n",
              "    </tr>\n",
              "    <tr>\n",
              "      <th>Vietnam</th>\n",
              "      <td>1</td>\n",
              "    </tr>\n",
              "  </tbody>\n",
              "</table>\n",
              "<p>70 rows × 1 columns</p>\n",
              "</div><br><label><b>dtype:</b> int64</label>"
            ]
          },
          "metadata": {},
          "execution_count": 8
        }
      ]
    },
    {
      "cell_type": "markdown",
      "source": [
        "Como resposta temos que houve apenas um preço por país na data: 01 de julho de 2022. Essa análise ajuda a identificar se há alguma informação duplicada."
      ],
      "metadata": {
        "id": "PWI5Z50uXdEY"
      }
    },
    {
      "cell_type": "code",
      "source": [
        "# salvando os dados filtrados para serem usados posteriormente\n",
        "df_filtered.to_csv('BigmacPriceJuly2022.csv', index=False)"
      ],
      "metadata": {
        "id": "z6YpMoAIYoP_"
      },
      "execution_count": 9,
      "outputs": []
    },
    {
      "cell_type": "markdown",
      "source": [
        "# Medidas de tendência central - na prática"
      ],
      "metadata": {
        "id": "u3NQ7RWPYFUi"
      }
    },
    {
      "cell_type": "markdown",
      "source": [
        "## Moda\n",
        "\n",
        "A moda é a medida que indica a frequência dos dados em um conjunto de dados, trazendo como resultado o dado que mais se repete, ou seja, que aparece com uma certa frequência em relação aos outros. É importante saber que a moda pode assumir mais de um valor."
      ],
      "metadata": {
        "id": "QqMXANKJYPDe"
      }
    },
    {
      "cell_type": "code",
      "source": [
        "df = pd.read_csv('BigmacPriceJuly2022.csv')"
      ],
      "metadata": {
        "id": "Da5_t2AmW_Oy"
      },
      "execution_count": 10,
      "outputs": []
    },
    {
      "cell_type": "code",
      "source": [
        "# usando função do pandas para cálculo da moda do preço do big mac em dólar americano\n",
        "df['dollar_price'].mode()"
      ],
      "metadata": {
        "colab": {
          "base_uri": "https://localhost:8080/",
          "height": 147
        },
        "id": "i2LjjfoSZEXd",
        "outputId": "cee3c12f-acb0-439b-a943-4b06434f822e"
      },
      "execution_count": 11,
      "outputs": [
        {
          "output_type": "execute_result",
          "data": {
            "text/plain": [
              "0    4.00\n",
              "1    4.58\n",
              "Name: dollar_price, dtype: float64"
            ],
            "text/html": [
              "<div>\n",
              "<style scoped>\n",
              "    .dataframe tbody tr th:only-of-type {\n",
              "        vertical-align: middle;\n",
              "    }\n",
              "\n",
              "    .dataframe tbody tr th {\n",
              "        vertical-align: top;\n",
              "    }\n",
              "\n",
              "    .dataframe thead th {\n",
              "        text-align: right;\n",
              "    }\n",
              "</style>\n",
              "<table border=\"1\" class=\"dataframe\">\n",
              "  <thead>\n",
              "    <tr style=\"text-align: right;\">\n",
              "      <th></th>\n",
              "      <th>dollar_price</th>\n",
              "    </tr>\n",
              "  </thead>\n",
              "  <tbody>\n",
              "    <tr>\n",
              "      <th>0</th>\n",
              "      <td>4.00</td>\n",
              "    </tr>\n",
              "    <tr>\n",
              "      <th>1</th>\n",
              "      <td>4.58</td>\n",
              "    </tr>\n",
              "  </tbody>\n",
              "</table>\n",
              "</div><br><label><b>dtype:</b> float64</label>"
            ]
          },
          "metadata": {},
          "execution_count": 11
        }
      ]
    },
    {
      "cell_type": "code",
      "source": [
        "# visualizando a frequência do preço de 4.00 e 4.58 em relação aos demais\n",
        "df['dollar_price'].value_counts()"
      ],
      "metadata": {
        "colab": {
          "base_uri": "https://localhost:8080/",
          "height": 489
        },
        "id": "f1yE86dRZtSx",
        "outputId": "dae4822b-9324-4154-df50-b2d978d32152"
      },
      "execution_count": 12,
      "outputs": [
        {
          "output_type": "execute_result",
          "data": {
            "text/plain": [
              "dollar_price\n",
              "4.58    3\n",
              "4.00    3\n",
              "3.50    2\n",
              "5.67    2\n",
              "3.71    2\n",
              "       ..\n",
              "2.85    1\n",
              "2.30    1\n",
              "1.30    1\n",
              "6.70    1\n",
              "2.95    1\n",
              "Name: count, Length: 61, dtype: int64"
            ],
            "text/html": [
              "<div>\n",
              "<style scoped>\n",
              "    .dataframe tbody tr th:only-of-type {\n",
              "        vertical-align: middle;\n",
              "    }\n",
              "\n",
              "    .dataframe tbody tr th {\n",
              "        vertical-align: top;\n",
              "    }\n",
              "\n",
              "    .dataframe thead th {\n",
              "        text-align: right;\n",
              "    }\n",
              "</style>\n",
              "<table border=\"1\" class=\"dataframe\">\n",
              "  <thead>\n",
              "    <tr style=\"text-align: right;\">\n",
              "      <th></th>\n",
              "      <th>count</th>\n",
              "    </tr>\n",
              "    <tr>\n",
              "      <th>dollar_price</th>\n",
              "      <th></th>\n",
              "    </tr>\n",
              "  </thead>\n",
              "  <tbody>\n",
              "    <tr>\n",
              "      <th>4.58</th>\n",
              "      <td>3</td>\n",
              "    </tr>\n",
              "    <tr>\n",
              "      <th>4.00</th>\n",
              "      <td>3</td>\n",
              "    </tr>\n",
              "    <tr>\n",
              "      <th>3.50</th>\n",
              "      <td>2</td>\n",
              "    </tr>\n",
              "    <tr>\n",
              "      <th>5.67</th>\n",
              "      <td>2</td>\n",
              "    </tr>\n",
              "    <tr>\n",
              "      <th>3.71</th>\n",
              "      <td>2</td>\n",
              "    </tr>\n",
              "    <tr>\n",
              "      <th>...</th>\n",
              "      <td>...</td>\n",
              "    </tr>\n",
              "    <tr>\n",
              "      <th>2.85</th>\n",
              "      <td>1</td>\n",
              "    </tr>\n",
              "    <tr>\n",
              "      <th>2.30</th>\n",
              "      <td>1</td>\n",
              "    </tr>\n",
              "    <tr>\n",
              "      <th>1.30</th>\n",
              "      <td>1</td>\n",
              "    </tr>\n",
              "    <tr>\n",
              "      <th>6.70</th>\n",
              "      <td>1</td>\n",
              "    </tr>\n",
              "    <tr>\n",
              "      <th>2.95</th>\n",
              "      <td>1</td>\n",
              "    </tr>\n",
              "  </tbody>\n",
              "</table>\n",
              "<p>61 rows × 1 columns</p>\n",
              "</div><br><label><b>dtype:</b> int64</label>"
            ]
          },
          "metadata": {},
          "execution_count": 12
        }
      ]
    },
    {
      "cell_type": "markdown",
      "source": [
        "## Média\n",
        "\n",
        "Diferente da moda, a média assume somente um valor. Sobre a média é  importante saber que ela sofre influência de valores extremos, conhecidos como outliers existentes na amostra."
      ],
      "metadata": {
        "id": "GPj6mXx5bNXx"
      }
    },
    {
      "cell_type": "code",
      "source": [
        "# calculando a média do preço do big mac no mês de julho de 2022\n",
        "df['dollar_price'].mean()"
      ],
      "metadata": {
        "colab": {
          "base_uri": "https://localhost:8080/"
        },
        "id": "IQq_0_hlaFws",
        "outputId": "5fae2701-a3b0-4bc9-810c-15a7b9827cf2"
      },
      "execution_count": 13,
      "outputs": [
        {
          "output_type": "execute_result",
          "data": {
            "text/plain": [
              "4.003571428571429"
            ]
          },
          "metadata": {},
          "execution_count": 13
        }
      ]
    },
    {
      "cell_type": "markdown",
      "source": [
        "## Mediana\n",
        "\n",
        "É a medida que calcula o valor que divide o conjunto de dados no meio. Para calcular a mediana devemos ordenar os valores em ordem crescente e em caso de um conjunto de dados par é necessário somar os dois valores do meio e retirar a média que mostrará a posição em que os dados são divididos ao meio. Em caso de conjunto de dados ímpar a mediana será o valor que divide o conjunto igualmente sem que haja necessidade de calcular a média. Haverá os valores maiores que a mediana e os valores menores que a mediana. E ao contrário da média, a mediana não é facilmente influenciada por valores extremos. Ao fazer uma análise descritiva dos dados é importante comparar a média com a mediana pois é uma forma de indicar a existência de valores extremos."
      ],
      "metadata": {
        "id": "JGuOOa-Lcx8E"
      }
    },
    {
      "cell_type": "code",
      "source": [
        "# calculando a mediana do preço do big mac no mês de julho de 2022\n",
        "df['dollar_price'].median()"
      ],
      "metadata": {
        "colab": {
          "base_uri": "https://localhost:8080/"
        },
        "id": "rGdQI8H9bXDF",
        "outputId": "6444b65f-1554-48fd-c97e-c2e786829233"
      },
      "execution_count": 14,
      "outputs": [
        {
          "output_type": "execute_result",
          "data": {
            "text/plain": [
              "3.9050000000000002"
            ]
          },
          "metadata": {},
          "execution_count": 14
        }
      ]
    },
    {
      "cell_type": "markdown",
      "source": [
        "# Medidas de dispersão\n",
        "\n",
        "As medidas de dispersão são importantes para entender o quão variados estão os dados. As medidas mais comuns são: variância, desvio padrão e coeficiente de variação."
      ],
      "metadata": {
        "id": "Jz_jF7R0iqQM"
      }
    },
    {
      "cell_type": "markdown",
      "source": [
        "## Variância\n",
        "\n",
        "Ajuda a entender o quão longe da média os dados estão. No cálculo da variância elevamos o resultado da subtração entre o dado e a média do conjunto de dados ao quadrado para que todos os resultados sejam positivos e as distância não se anulem dando em uma variância zero. Existe a variância amostral e populacional. No Python temos a biblioteca Numpy que calcula a variância populacional e a biblioteca Pandas que calcula a variância amostral.A variância também sofre com valores extremos justamente por utilizar a média. Vejamos a diferença entre seus resultados."
      ],
      "metadata": {
        "id": "-vTpKIpXj2RR"
      }
    },
    {
      "cell_type": "code",
      "source": [
        "import numpy as np"
      ],
      "metadata": {
        "id": "jE36nFFFd84p"
      },
      "execution_count": 15,
      "outputs": []
    },
    {
      "cell_type": "code",
      "source": [
        "# calculando a variância populacional da coluna 'dollar_price' com o Numpy\n",
        "df_dollarPrice = df['dollar_price']\n",
        "np.var(df_dollarPrice)"
      ],
      "metadata": {
        "colab": {
          "base_uri": "https://localhost:8080/"
        },
        "id": "xb83aWorm31V",
        "outputId": "b2df197d-f280-4079-9c88-4a63bb3f5d35"
      },
      "execution_count": 16,
      "outputs": [
        {
          "output_type": "execute_result",
          "data": {
            "text/plain": [
              "1.8050258163265305"
            ]
          },
          "metadata": {},
          "execution_count": 16
        }
      ]
    },
    {
      "cell_type": "code",
      "source": [
        "# calculando a variância amostral da coluna 'dollar_price' com o Pandas\n",
        "df_dollarPrice.var()"
      ],
      "metadata": {
        "colab": {
          "base_uri": "https://localhost:8080/"
        },
        "id": "u0gSaj4SnOUA",
        "outputId": "8f3aa2c0-f04b-48fe-ac70-f9b5bc292e10"
      },
      "execution_count": 17,
      "outputs": [
        {
          "output_type": "execute_result",
          "data": {
            "text/plain": [
              "1.8311856107660454"
            ]
          },
          "metadata": {},
          "execution_count": 17
        }
      ]
    },
    {
      "cell_type": "markdown",
      "source": [
        "## Desvio Padrão\n",
        "\n",
        "O desvio padrão é a raiz quadrada da variância e é calculado para que a variação esteja na mesma unidade dos dados de origem, uma vez que a elevação ao quadrado feita pela variância modifica a unidade natural dos dados. O desvio padrão também sofre a influencia de dados extremos devido a variância utilizar a média.Vamos calcular o desvio padrão com Numpy e com o Pandas para verificar se há diferença entre os resultados."
      ],
      "metadata": {
        "id": "wuGwtPAzoO7t"
      }
    },
    {
      "cell_type": "code",
      "source": [
        "# calculando o desvio padrão com Numpy\n",
        "np.std(df_dollarPrice)"
      ],
      "metadata": {
        "colab": {
          "base_uri": "https://localhost:8080/"
        },
        "id": "0k90A5D4nVZ3",
        "outputId": "8281b6b7-9614-4bfa-bd93-10d3ef541816"
      },
      "execution_count": 18,
      "outputs": [
        {
          "output_type": "execute_result",
          "data": {
            "text/plain": [
              "1.3435124920619572"
            ]
          },
          "metadata": {},
          "execution_count": 18
        }
      ]
    },
    {
      "cell_type": "code",
      "source": [
        "# calculando o desvio padrão com Pandas\n",
        "df_dollarPrice.std()"
      ],
      "metadata": {
        "colab": {
          "base_uri": "https://localhost:8080/"
        },
        "id": "Id4ufdEOpIr3",
        "outputId": "5e0fd377-e29c-4a70-e406-e15218542a45"
      },
      "execution_count": 19,
      "outputs": [
        {
          "output_type": "execute_result",
          "data": {
            "text/plain": [
              "1.3532130692415165"
            ]
          },
          "metadata": {},
          "execution_count": 19
        }
      ]
    },
    {
      "cell_type": "markdown",
      "source": [
        "Como podemos ver tanto na variância quanto no desvio padrão o Numpy e o Pandas deram resultados razoavelmente diferentes, isso ocorre porque Numpy executa variância e desvio padrão populacional, enquanto que no Pandas usamos variância e desvio padrão amostral. É importante se atentar a finalidade da análise para saber qual biblioteca utilizar."
      ],
      "metadata": {
        "id": "vt_eYfTJpW4m"
      }
    },
    {
      "cell_type": "markdown",
      "source": [
        "## Coeficiente de variação\n",
        "\n",
        "Ajuda a entender se os dados estão muito variados ou não. Para calcular o CV dividimos o desvio padrão pela média. De acordo com o professor:\n",
        "\n",
        "**coeficiente de variação que sejam:**\n",
        "\n",
        "- CV <= 15% tem Fraca dispersão\n",
        "\n",
        "- 15% < CV <= 30% tem Moderada dispersão\n",
        "\n",
        "- CV > 30% tem Alta dispersão\n",
        "\n",
        "\n"
      ],
      "metadata": {
        "id": "bnTsJVyQqJeB"
      }
    },
    {
      "cell_type": "code",
      "source": [
        "# calculando o coeficiente de variação do preço do big mac entre os países\n",
        "coeficiente_variacao_big_mac = 100* df['dollar_price'].std()/df_dollarPrice.mean()"
      ],
      "metadata": {
        "id": "SWmXq4UJpOTf"
      },
      "execution_count": 20,
      "outputs": []
    },
    {
      "cell_type": "code",
      "source": [
        "coeficiente_variacao_big_mac"
      ],
      "metadata": {
        "colab": {
          "base_uri": "https://localhost:8080/"
        },
        "id": "ZI8M_JGYsXct",
        "outputId": "cc3e6535-a399-4ed8-d34e-d95c526decea"
      },
      "execution_count": 21,
      "outputs": [
        {
          "output_type": "execute_result",
          "data": {
            "text/plain": [
              "33.80014802744198"
            ]
          },
          "metadata": {},
          "execution_count": 21
        }
      ]
    },
    {
      "cell_type": "markdown",
      "source": [
        "Como resultado entendemos que o preço do big mac sofre grande variação entre os países."
      ],
      "metadata": {
        "id": "-ijh0Tz_sg8S"
      }
    },
    {
      "cell_type": "markdown",
      "source": [
        "# Quantis e Quartis\n",
        "\n",
        "Ajuda a entender o que ocorre em cada porcentagem do conjunto de dados. Os quartis são quantis específicos.\n",
        "\n",
        "\n",
        "\n",
        "*   1º quartil = quantil 0.25\n",
        "*   2º quartil = quantil 0.50\n",
        "\n",
        "*   3º quartil = quantil 0.75\n",
        "\n",
        "\n",
        "\n"
      ],
      "metadata": {
        "id": "saGlE8H1svnO"
      }
    },
    {
      "cell_type": "markdown",
      "source": [
        "Abaixo é calculado o quantil 0.1 ou percentil 10% do preço em dólar americano do big mac nos países:"
      ],
      "metadata": {
        "id": "S1f0y2VPlwvD"
      }
    },
    {
      "cell_type": "code",
      "source": [
        "df_dollarPrice.quantile(0.1)"
      ],
      "metadata": {
        "id": "Mwg140sasZc_",
        "colab": {
          "base_uri": "https://localhost:8080/"
        },
        "outputId": "7efbf775-5256-4e4a-94d5-0e420c46be69"
      },
      "execution_count": 22,
      "outputs": [
        {
          "output_type": "execute_result",
          "data": {
            "text/plain": [
              "2.413"
            ]
          },
          "metadata": {},
          "execution_count": 22
        }
      ]
    },
    {
      "cell_type": "markdown",
      "source": [
        "Esse resultado nos diz que 10% de todos os preços do big mac no mundo custam até 2.43 dólares. Abaixo estamos calculando o 1º quartil, ou seja, 25% de todos os preços do big mac no mundo:"
      ],
      "metadata": {
        "id": "CwiIgptPmKHr"
      }
    },
    {
      "cell_type": "code",
      "source": [
        "# calculando o 1º quartil - 25% dos dados\n",
        "df_dollarPrice.quantile(0.25)"
      ],
      "metadata": {
        "colab": {
          "base_uri": "https://localhost:8080/"
        },
        "id": "X7YYILKjmHYl",
        "outputId": "4133b3ff-40a2-4eba-8dda-acc917b26c60"
      },
      "execution_count": 23,
      "outputs": [
        {
          "output_type": "execute_result",
          "data": {
            "text/plain": [
              "3.0"
            ]
          },
          "metadata": {},
          "execution_count": 23
        }
      ]
    },
    {
      "cell_type": "code",
      "source": [
        "# calculando o 2º quartil - 50% dos dados (mediana)\n",
        "df_dollarPrice.quantile(0.50)"
      ],
      "metadata": {
        "colab": {
          "base_uri": "https://localhost:8080/"
        },
        "id": "toVuRxwDm5g5",
        "outputId": "de0a3b32-3db3-4195-de31-57fdafacb57a"
      },
      "execution_count": 24,
      "outputs": [
        {
          "output_type": "execute_result",
          "data": {
            "text/plain": [
              "3.9050000000000002"
            ]
          },
          "metadata": {},
          "execution_count": 24
        }
      ]
    },
    {
      "cell_type": "code",
      "source": [
        "# calculando a mediana para comparar com o resultado do 2º quartil\n",
        "df_dollarPrice.median()"
      ],
      "metadata": {
        "colab": {
          "base_uri": "https://localhost:8080/"
        },
        "id": "odbW4EINnBQa",
        "outputId": "0b7f29d1-2d88-4da5-d789-1ee1d7663d3b"
      },
      "execution_count": 25,
      "outputs": [
        {
          "output_type": "execute_result",
          "data": {
            "text/plain": [
              "3.9050000000000002"
            ]
          },
          "metadata": {},
          "execution_count": 25
        }
      ]
    },
    {
      "cell_type": "markdown",
      "source": [
        "## Analisando outros quantis e quartis do conjunto de dados"
      ],
      "metadata": {
        "id": "HROA_16yDVVD"
      }
    },
    {
      "cell_type": "code",
      "source": [
        "percentil_10 = df_dollarPrice.quantile(0.1)\n",
        "percentil_25 = df_dollarPrice.quantile(0.25)\n",
        "percentil_50 = df_dollarPrice.quantile(0.50)\n",
        "percentil_75 = df_dollarPrice.quantile(0.75)\n",
        "percentil_90 = df_dollarPrice.quantile(0.90)\n",
        "percentil_95 = df_dollarPrice.quantile(0.95)\n",
        "media = df_dollarPrice.mean()\n",
        "moda  = df_dollarPrice.mode()[0]\n",
        "mediana = df_dollarPrice.median()"
      ],
      "metadata": {
        "id": "xwpRlcG-nGoP"
      },
      "execution_count": 34,
      "outputs": []
    },
    {
      "cell_type": "code",
      "source": [
        "print(\"Quantil 0.10: {}\\n\".format(percentil_10))\n",
        "print(\"1º Quartil 0.25: {}\\n\".format(percentil_25))\n",
        "print(\"2º Quartil 0.50: {}\\n\".format(percentil_50))\n",
        "print(\"3º Quartil 0.75: {}\\n\".format(percentil_75))\n",
        "print(\"Quantil 0.90: {}\\n\".format(percentil_90))\n",
        "print(\"Quantil 0.95: {}\\n\".format(percentil_95))\n",
        "print(\"Média: {}\\n\".format(media))\n",
        "print(\"Moda: {}\\n\".format(moda))\n",
        "print(\"Mediana: {}\\n\".format(mediana))"
      ],
      "metadata": {
        "colab": {
          "base_uri": "https://localhost:8080/"
        },
        "id": "PAu-zrO4Dptf",
        "outputId": "ee7630f8-5589-480b-c663-717ff1f0c673"
      },
      "execution_count": 37,
      "outputs": [
        {
          "output_type": "stream",
          "name": "stdout",
          "text": [
            "Quantil 0.10: 2.413\n",
            "\n",
            "1º Quartil 0.25: 3.0\n",
            "\n",
            "2º Quartil 0.50: 3.9050000000000002\n",
            "\n",
            "3º Quartil 0.75: 4.6875\n",
            "\n",
            "Quantil 0.90: 5.91\n",
            "\n",
            "Quantil 0.95: 6.609999999999999\n",
            "\n",
            "Média: 4.003571428571429\n",
            "\n",
            "Moda: 4.0\n",
            "\n",
            "Mediana: 3.9050000000000002\n",
            "\n"
          ]
        }
      ]
    },
    {
      "cell_type": "markdown",
      "source": [
        "## Análise do preço do Big Mac no mundo:\n",
        "\n",
        "Até 10% dos países está com preço de até 2.41 dólares;\n",
        "\n",
        "Até 25% dos países está com preço de até 3.00 dólares;\n",
        "\n",
        "Até 50% dos países está com preço de até 3.90 dólares;\n",
        "\n",
        "Até 75% dos países está com preço de até 4.68 dólares;\n",
        "\n",
        "Até 90% dos países está com preço de até 5.91 dólares;\n",
        "\n",
        "Até 95% dos países está com preço de até 6.60 dólares."
      ],
      "metadata": {
        "id": "oQzu5DZaFVon"
      }
    },
    {
      "cell_type": "markdown",
      "source": [
        "## Conclusão da análise anterior:\n",
        "\n",
        "Em média o preço do Big Mac está até 4.00 dólares, um pouco a mais em até 75% dos países e um pouco a menos em até 50% dos países, mas a faixa de preço é de 4.00 dólares. Pudemos identificar que 5% dos paises possuem um preço acima da média e da mediana: 6.60 dólares."
      ],
      "metadata": {
        "id": "ciKeo5yHHYUl"
      }
    }
  ]
}